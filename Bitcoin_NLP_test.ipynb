{
  "nbformat": 4,
  "nbformat_minor": 0,
  "metadata": {
    "colab": {
      "provenance": []
    },
    "kernelspec": {
      "name": "python3",
      "display_name": "Python 3"
    },
    "language_info": {
      "name": "python"
    }
  },
  "cells": [
    {
      "cell_type": "code",
      "execution_count": 17,
      "metadata": {
        "colab": {
          "base_uri": "https://localhost:8080/"
        },
        "id": "mGdbW8InarXc",
        "outputId": "d161907e-88a4-4c76-cd4a-72b702833fd5"
      },
      "outputs": [
        {
          "output_type": "stream",
          "name": "stderr",
          "text": [
            "Device set to use cpu\n"
          ]
        }
      ],
      "source": [
        "# Use a pipeline as a high-level helper\n",
        "from transformers import pipeline\n",
        "\n",
        "pipe = pipeline(\"sentiment-analysis\", model=\"ProsusAI/finbert\")"
      ]
    },
    {
      "cell_type": "code",
      "source": [
        "from transformers import BertTokenizer, BertForSequenceClassification\n",
        "from transformers import pipeline\n",
        "\n",
        "tokenizer = BertTokenizer.from_pretrained(\"kk08/CryptoBERT\")\n",
        "model = BertForSequenceClassification.from_pretrained(\"kk08/CryptoBERT\")\n",
        "\n",
        "classifier = pipeline(\"sentiment-analysis\", model=model, tokenizer=tokenizer)\n",
        "text = \"Bitcoin (BTC) touches $29k, Ethereum (ETH) Set To Explode, RenQ Finance (RENQ) Crosses Massive Milestone\"\n",
        "result = classifier(text)\n",
        "print(result)"
      ],
      "metadata": {
        "colab": {
          "base_uri": "https://localhost:8080/"
        },
        "id": "zutLY8pma7kE",
        "outputId": "2a656c42-f685-4c55-fa99-eb81f1be3666"
      },
      "execution_count": 18,
      "outputs": [
        {
          "output_type": "stream",
          "name": "stderr",
          "text": [
            "Device set to use cpu\n"
          ]
        },
        {
          "output_type": "stream",
          "name": "stdout",
          "text": [
            "[{'label': 'LABEL_1', 'score': 0.9678454399108887}]\n"
          ]
        }
      ]
    },
    {
      "cell_type": "code",
      "source": [
        "bitcoin_negative_news = [\n",
        "    \"New Study Links Bitcoin Mining to Increased Regional Power Grid Failures\",\n",
        "    \"IMF Warns of Financial Instability Risk from Rising Bitcoin Adoption in Developing Nations\",\n",
        "    \"Bitcoin Use Surges in Illicit Transactions Despite Regulatory Crackdowns, Report Finds\",\n",
        "    \"Bitcoin's Environmental Toll Greater Than Previously Estimated, Scientists Say\",\n",
        "    \"Major Central Banks Explore Digital Currencies to Undermine Bitcoin's Dominance\",\n",
        "    \"Bitcoin Market Manipulation More Rampant Than Expected, New Analysis Shows\",\n",
        "    \"Crypto Crime: Bitcoin at Center of $3 Billion Global Money Laundering Ring\",\n",
        "    \"Bitcoin’s Role in Enabling Sanction Evasion Raises Alarms Among Global Regulators\",\n",
        "    \"Bitcoin Ownership Concentration Threatens Market Stability, Economists Warn\",\n",
        "    \"Blockchain Bloat: Bitcoin’s Growing Data Size Strains Global Network Infrastructure\"\n",
        "]\n",
        "\n",
        "for news in bitcoin_negative_news:\n",
        "    result = classifier(news)\n",
        "    if result[0]['label'] == 'LABEL_0':\n",
        "        print('Negative')\n",
        "    else:\n",
        "        print('Positive')\n",
        "    print(result)"
      ],
      "metadata": {
        "colab": {
          "base_uri": "https://localhost:8080/"
        },
        "id": "k_gtTUTFfNqZ",
        "outputId": "9226e56e-a782-487f-8f97-a703d91f25f5"
      },
      "execution_count": 19,
      "outputs": [
        {
          "output_type": "stream",
          "name": "stdout",
          "text": [
            "Positive\n",
            "[{'label': 'LABEL_1', 'score': 0.9600735306739807}]\n",
            "Negative\n",
            "[{'label': 'LABEL_0', 'score': 0.5883265137672424}]\n",
            "Positive\n",
            "[{'label': 'LABEL_1', 'score': 0.9251406192779541}]\n",
            "Negative\n",
            "[{'label': 'LABEL_0', 'score': 0.8367244005203247}]\n",
            "Negative\n",
            "[{'label': 'LABEL_0', 'score': 0.9365214705467224}]\n",
            "Negative\n",
            "[{'label': 'LABEL_0', 'score': 0.9659063816070557}]\n",
            "Negative\n",
            "[{'label': 'LABEL_0', 'score': 0.9673118591308594}]\n",
            "Positive\n",
            "[{'label': 'LABEL_1', 'score': 0.6454881429672241}]\n",
            "Negative\n",
            "[{'label': 'LABEL_0', 'score': 0.9660454988479614}]\n",
            "Positive\n",
            "[{'label': 'LABEL_1', 'score': 0.8074657320976257}]\n"
          ]
        }
      ]
    }
  ]
}